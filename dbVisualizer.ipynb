{
 "cells": [
  {
   "cell_type": "code",
   "execution_count": 17,
   "metadata": {},
   "outputs": [],
   "source": [
    "import sqlite3\n",
    "import pandas as pd\n",
    "\n",
    "DB_PATH = './data/db/database_prod.db'\n",
    "USERS_DB_COLS = ['u_id', 'u_joined']\n",
    "AUDIOS_DB_COLS = ['a_id', 'a_name', 'a_path','a_timestamt', 'u_id']"
   ]
  },
  {
   "cell_type": "markdown",
   "metadata": {},
   "source": [
    "### Show the Users DB Data"
   ]
  },
  {
   "cell_type": "code",
   "execution_count": 18,
   "metadata": {},
   "outputs": [
    {
     "data": {
      "text/html": [
       "<div>\n",
       "<style scoped>\n",
       "    .dataframe tbody tr th:only-of-type {\n",
       "        vertical-align: middle;\n",
       "    }\n",
       "\n",
       "    .dataframe tbody tr th {\n",
       "        vertical-align: top;\n",
       "    }\n",
       "\n",
       "    .dataframe thead th {\n",
       "        text-align: right;\n",
       "    }\n",
       "</style>\n",
       "<table border=\"1\" class=\"dataframe\">\n",
       "  <thead>\n",
       "    <tr style=\"text-align: right;\">\n",
       "      <th></th>\n",
       "      <th>u_joined</th>\n",
       "    </tr>\n",
       "    <tr>\n",
       "      <th>u_id</th>\n",
       "      <th></th>\n",
       "    </tr>\n",
       "  </thead>\n",
       "  <tbody>\n",
       "    <tr>\n",
       "      <th>459322429</th>\n",
       "      <td>2024-05-02 00:11:34</td>\n",
       "    </tr>\n",
       "  </tbody>\n",
       "</table>\n",
       "</div>"
      ],
      "text/plain": [
       "                      u_joined\n",
       "u_id                          \n",
       "459322429  2024-05-02 00:11:34"
      ]
     },
     "execution_count": 18,
     "metadata": {},
     "output_type": "execute_result"
    }
   ],
   "source": [
    "with sqlite3.connect(DB_PATH) as db_conn:\n",
    "    cursor = db_conn.cursor()\n",
    "    cursor.execute(\"SELECT * FROM Users\")\n",
    "    db_conn.commit()\n",
    "    # Obtain the data\n",
    "    data = pd.DataFrame(cursor.fetchall(), columns=USERS_DB_COLS).set_index(USERS_DB_COLS[0])\n",
    "\n",
    "data"
   ]
  },
  {
   "cell_type": "markdown",
   "metadata": {},
   "source": [
    "### Show the Audios DB Data"
   ]
  },
  {
   "cell_type": "code",
   "execution_count": 19,
   "metadata": {},
   "outputs": [
    {
     "data": {
      "text/html": [
       "<div>\n",
       "<style scoped>\n",
       "    .dataframe tbody tr th:only-of-type {\n",
       "        vertical-align: middle;\n",
       "    }\n",
       "\n",
       "    .dataframe tbody tr th {\n",
       "        vertical-align: top;\n",
       "    }\n",
       "\n",
       "    .dataframe thead th {\n",
       "        text-align: right;\n",
       "    }\n",
       "</style>\n",
       "<table border=\"1\" class=\"dataframe\">\n",
       "  <thead>\n",
       "    <tr style=\"text-align: right;\">\n",
       "      <th></th>\n",
       "      <th>a_name</th>\n",
       "      <th>a_path</th>\n",
       "      <th>a_timestamt</th>\n",
       "      <th>u_id</th>\n",
       "    </tr>\n",
       "    <tr>\n",
       "      <th>a_id</th>\n",
       "      <th></th>\n",
       "      <th></th>\n",
       "      <th></th>\n",
       "      <th></th>\n",
       "    </tr>\n",
       "  </thead>\n",
       "  <tbody>\n",
       "    <tr>\n",
       "      <th>40160530-14be-4258-8afc-c8a68a821b62</th>\n",
       "      <td>audio_message_0</td>\n",
       "      <td>/data/459322429/audio_data/audio_message_0.wav</td>\n",
       "      <td>2024-05-02 00:11:34</td>\n",
       "      <td>459322429</td>\n",
       "    </tr>\n",
       "    <tr>\n",
       "      <th>e9e0fc03-57d4-4beb-8f72-04670bf13643</th>\n",
       "      <td>audio_message_1</td>\n",
       "      <td>/data/459322429/audio_data/audio_message_1.wav</td>\n",
       "      <td>2024-05-02 00:40:11</td>\n",
       "      <td>459322429</td>\n",
       "    </tr>\n",
       "    <tr>\n",
       "      <th>3f1f96b7-0d97-4e58-ab9a-99dde70d860f</th>\n",
       "      <td>audio_message_2</td>\n",
       "      <td>/data/459322429/audio_data/audio_message_2.wav</td>\n",
       "      <td>2024-05-02 00:40:16</td>\n",
       "      <td>459322429</td>\n",
       "    </tr>\n",
       "    <tr>\n",
       "      <th>095b0d4c-3764-42b1-933c-8738851d893e</th>\n",
       "      <td>audio_message_3</td>\n",
       "      <td>/data/459322429/audio_data/audio_message_3.wav</td>\n",
       "      <td>2024-05-02 01:03:19</td>\n",
       "      <td>459322429</td>\n",
       "    </tr>\n",
       "    <tr>\n",
       "      <th>b5e772a9-6440-4079-8c87-75bef8ddf9cf</th>\n",
       "      <td>audio_message_4</td>\n",
       "      <td>/data/459322429/audio_data/audio_message_4.wav</td>\n",
       "      <td>2024-05-02 01:20:24</td>\n",
       "      <td>459322429</td>\n",
       "    </tr>\n",
       "    <tr>\n",
       "      <th>4bce36cb-77d9-443b-b021-a762e85fd17a</th>\n",
       "      <td>audio_message_5</td>\n",
       "      <td>/data/459322429/audio_data/audio_message_5.wav</td>\n",
       "      <td>2024-05-02 01:24:17</td>\n",
       "      <td>459322429</td>\n",
       "    </tr>\n",
       "    <tr>\n",
       "      <th>29421d66-81e5-4133-8546-a8a00556f5b1</th>\n",
       "      <td>audio_message_6</td>\n",
       "      <td>/data/459322429/audio_data/audio_message_6.wav</td>\n",
       "      <td>2024-05-02 01:24:32</td>\n",
       "      <td>459322429</td>\n",
       "    </tr>\n",
       "    <tr>\n",
       "      <th>15947fe7-35f7-4a1e-86bb-c8056e534c64</th>\n",
       "      <td>audio_message_7</td>\n",
       "      <td>/data/459322429/audio_data/audio_message_7.wav</td>\n",
       "      <td>2024-05-02 01:25:00</td>\n",
       "      <td>459322429</td>\n",
       "    </tr>\n",
       "    <tr>\n",
       "      <th>53fa0dd2-61bd-4d7b-bdd0-7ebc5ed3a436</th>\n",
       "      <td>audio_message_8</td>\n",
       "      <td>/data/459322429/audio_data/audio_message_8.wav</td>\n",
       "      <td>2024-05-02 01:25:11</td>\n",
       "      <td>459322429</td>\n",
       "    </tr>\n",
       "  </tbody>\n",
       "</table>\n",
       "</div>"
      ],
      "text/plain": [
       "                                               a_name  \\\n",
       "a_id                                                    \n",
       "40160530-14be-4258-8afc-c8a68a821b62  audio_message_0   \n",
       "e9e0fc03-57d4-4beb-8f72-04670bf13643  audio_message_1   \n",
       "3f1f96b7-0d97-4e58-ab9a-99dde70d860f  audio_message_2   \n",
       "095b0d4c-3764-42b1-933c-8738851d893e  audio_message_3   \n",
       "b5e772a9-6440-4079-8c87-75bef8ddf9cf  audio_message_4   \n",
       "4bce36cb-77d9-443b-b021-a762e85fd17a  audio_message_5   \n",
       "29421d66-81e5-4133-8546-a8a00556f5b1  audio_message_6   \n",
       "15947fe7-35f7-4a1e-86bb-c8056e534c64  audio_message_7   \n",
       "53fa0dd2-61bd-4d7b-bdd0-7ebc5ed3a436  audio_message_8   \n",
       "\n",
       "                                                                              a_path  \\\n",
       "a_id                                                                                   \n",
       "40160530-14be-4258-8afc-c8a68a821b62  /data/459322429/audio_data/audio_message_0.wav   \n",
       "e9e0fc03-57d4-4beb-8f72-04670bf13643  /data/459322429/audio_data/audio_message_1.wav   \n",
       "3f1f96b7-0d97-4e58-ab9a-99dde70d860f  /data/459322429/audio_data/audio_message_2.wav   \n",
       "095b0d4c-3764-42b1-933c-8738851d893e  /data/459322429/audio_data/audio_message_3.wav   \n",
       "b5e772a9-6440-4079-8c87-75bef8ddf9cf  /data/459322429/audio_data/audio_message_4.wav   \n",
       "4bce36cb-77d9-443b-b021-a762e85fd17a  /data/459322429/audio_data/audio_message_5.wav   \n",
       "29421d66-81e5-4133-8546-a8a00556f5b1  /data/459322429/audio_data/audio_message_6.wav   \n",
       "15947fe7-35f7-4a1e-86bb-c8056e534c64  /data/459322429/audio_data/audio_message_7.wav   \n",
       "53fa0dd2-61bd-4d7b-bdd0-7ebc5ed3a436  /data/459322429/audio_data/audio_message_8.wav   \n",
       "\n",
       "                                              a_timestamt       u_id  \n",
       "a_id                                                                  \n",
       "40160530-14be-4258-8afc-c8a68a821b62  2024-05-02 00:11:34  459322429  \n",
       "e9e0fc03-57d4-4beb-8f72-04670bf13643  2024-05-02 00:40:11  459322429  \n",
       "3f1f96b7-0d97-4e58-ab9a-99dde70d860f  2024-05-02 00:40:16  459322429  \n",
       "095b0d4c-3764-42b1-933c-8738851d893e  2024-05-02 01:03:19  459322429  \n",
       "b5e772a9-6440-4079-8c87-75bef8ddf9cf  2024-05-02 01:20:24  459322429  \n",
       "4bce36cb-77d9-443b-b021-a762e85fd17a  2024-05-02 01:24:17  459322429  \n",
       "29421d66-81e5-4133-8546-a8a00556f5b1  2024-05-02 01:24:32  459322429  \n",
       "15947fe7-35f7-4a1e-86bb-c8056e534c64  2024-05-02 01:25:00  459322429  \n",
       "53fa0dd2-61bd-4d7b-bdd0-7ebc5ed3a436  2024-05-02 01:25:11  459322429  "
      ]
     },
     "execution_count": 19,
     "metadata": {},
     "output_type": "execute_result"
    }
   ],
   "source": [
    "with sqlite3.connect(DB_PATH) as db_conn:\n",
    "    cursor = db_conn.cursor()\n",
    "    cursor.execute(\"SELECT * FROM Audios\")\n",
    "    db_conn.commit()\n",
    "    # Obtain the data\n",
    "    data = pd.DataFrame(cursor.fetchall(), columns=AUDIOS_DB_COLS).set_index(AUDIOS_DB_COLS[0])\n",
    "\n",
    "data"
   ]
  },
  {
   "cell_type": "markdown",
   "metadata": {},
   "source": [
    "## Check the sampling rate\n",
    "Must be 16kHz"
   ]
  },
  {
   "cell_type": "code",
   "execution_count": 20,
   "metadata": {},
   "outputs": [
    {
     "name": "stdout",
     "output_type": "stream",
     "text": [
      "New Sampling RATE:  16000\n"
     ]
    }
   ],
   "source": [
    "from utils.audio_utils import AudioUtils\n",
    "\n",
    "au = AudioUtils()\n",
    "au.get_sample_rate(path='./data/audio_data/459322429/audio_message_2.wav')"
   ]
  },
  {
   "cell_type": "code",
   "execution_count": null,
   "metadata": {},
   "outputs": [],
   "source": []
  }
 ],
 "metadata": {
  "kernelspec": {
   "display_name": ".venv",
   "language": "python",
   "name": "python3"
  },
  "language_info": {
   "codemirror_mode": {
    "name": "ipython",
    "version": 3
   },
   "file_extension": ".py",
   "mimetype": "text/x-python",
   "name": "python",
   "nbconvert_exporter": "python",
   "pygments_lexer": "ipython3",
   "version": "3.11.5"
  }
 },
 "nbformat": 4,
 "nbformat_minor": 2
}
