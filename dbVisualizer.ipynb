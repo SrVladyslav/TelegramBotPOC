{
 "cells": [
  {
   "cell_type": "code",
   "execution_count": 1,
   "metadata": {},
   "outputs": [],
   "source": [
    "import sqlite3\n",
    "import pandas as pd\n",
    "\n",
    "DB_PATH = './data/db/database_prod.db'\n",
    "USERS_DB_COLS = ['u_id', 'u_joined']\n",
    "AUDIOS_DB_COLS = ['a_id', 'a_name', 'a_path','a_timestamt', 'u_id']"
   ]
  },
  {
   "cell_type": "markdown",
   "metadata": {},
   "source": [
    "### Show the Users DB Data"
   ]
  },
  {
   "cell_type": "code",
   "execution_count": 2,
   "metadata": {},
   "outputs": [
    {
     "data": {
      "text/html": [
       "<div>\n",
       "<style scoped>\n",
       "    .dataframe tbody tr th:only-of-type {\n",
       "        vertical-align: middle;\n",
       "    }\n",
       "\n",
       "    .dataframe tbody tr th {\n",
       "        vertical-align: top;\n",
       "    }\n",
       "\n",
       "    .dataframe thead th {\n",
       "        text-align: right;\n",
       "    }\n",
       "</style>\n",
       "<table border=\"1\" class=\"dataframe\">\n",
       "  <thead>\n",
       "    <tr style=\"text-align: right;\">\n",
       "      <th></th>\n",
       "      <th>u_joined</th>\n",
       "    </tr>\n",
       "    <tr>\n",
       "      <th>u_id</th>\n",
       "      <th></th>\n",
       "    </tr>\n",
       "  </thead>\n",
       "  <tbody>\n",
       "    <tr>\n",
       "      <th>459322429</th>\n",
       "      <td>2024-05-01 10:23:50</td>\n",
       "    </tr>\n",
       "  </tbody>\n",
       "</table>\n",
       "</div>"
      ],
      "text/plain": [
       "                      u_joined\n",
       "u_id                          \n",
       "459322429  2024-05-01 10:23:50"
      ]
     },
     "execution_count": 2,
     "metadata": {},
     "output_type": "execute_result"
    }
   ],
   "source": [
    "with sqlite3.connect(DB_PATH) as db_conn:\n",
    "    cursor = db_conn.cursor()\n",
    "    cursor.execute(\"SELECT * FROM Users\")\n",
    "    db_conn.commit()\n",
    "    # Obtain the data\n",
    "    data = pd.DataFrame(cursor.fetchall(), columns=USERS_DB_COLS).set_index(USERS_DB_COLS[0])\n",
    "\n",
    "data"
   ]
  },
  {
   "cell_type": "markdown",
   "metadata": {},
   "source": [
    "### Show the Audios DB Data"
   ]
  },
  {
   "cell_type": "code",
   "execution_count": 3,
   "metadata": {},
   "outputs": [
    {
     "data": {
      "text/html": [
       "<div>\n",
       "<style scoped>\n",
       "    .dataframe tbody tr th:only-of-type {\n",
       "        vertical-align: middle;\n",
       "    }\n",
       "\n",
       "    .dataframe tbody tr th {\n",
       "        vertical-align: top;\n",
       "    }\n",
       "\n",
       "    .dataframe thead th {\n",
       "        text-align: right;\n",
       "    }\n",
       "</style>\n",
       "<table border=\"1\" class=\"dataframe\">\n",
       "  <thead>\n",
       "    <tr style=\"text-align: right;\">\n",
       "      <th></th>\n",
       "      <th>a_name</th>\n",
       "      <th>a_path</th>\n",
       "      <th>a_timestamt</th>\n",
       "      <th>u_id</th>\n",
       "    </tr>\n",
       "    <tr>\n",
       "      <th>a_id</th>\n",
       "      <th></th>\n",
       "      <th></th>\n",
       "      <th></th>\n",
       "      <th></th>\n",
       "    </tr>\n",
       "  </thead>\n",
       "  <tbody>\n",
       "    <tr>\n",
       "      <th>d94ff833-d752-4b4e-9905-671ed72116c0</th>\n",
       "      <td>audio_message_0</td>\n",
       "      <td>/data/459322429/audio_data/audio_message_0.wav</td>\n",
       "      <td>2024-05-01 10:23:50</td>\n",
       "      <td>459322429</td>\n",
       "    </tr>\n",
       "    <tr>\n",
       "      <th>e83e83d3-54e1-422b-a2d1-6fe197dec21d</th>\n",
       "      <td>audio_message_1</td>\n",
       "      <td>/data/459322429/audio_data/audio_message_1.wav</td>\n",
       "      <td>2024-05-01 10:23:52</td>\n",
       "      <td>459322429</td>\n",
       "    </tr>\n",
       "    <tr>\n",
       "      <th>30967777-9abb-4d5b-b3ec-2219e35ccc04</th>\n",
       "      <td>audio_message_2</td>\n",
       "      <td>/data/459322429/audio_data/audio_message_2.wav</td>\n",
       "      <td>2024-05-01 10:23:54</td>\n",
       "      <td>459322429</td>\n",
       "    </tr>\n",
       "  </tbody>\n",
       "</table>\n",
       "</div>"
      ],
      "text/plain": [
       "                                               a_name  \\\n",
       "a_id                                                    \n",
       "d94ff833-d752-4b4e-9905-671ed72116c0  audio_message_0   \n",
       "e83e83d3-54e1-422b-a2d1-6fe197dec21d  audio_message_1   \n",
       "30967777-9abb-4d5b-b3ec-2219e35ccc04  audio_message_2   \n",
       "\n",
       "                                                                              a_path  \\\n",
       "a_id                                                                                   \n",
       "d94ff833-d752-4b4e-9905-671ed72116c0  /data/459322429/audio_data/audio_message_0.wav   \n",
       "e83e83d3-54e1-422b-a2d1-6fe197dec21d  /data/459322429/audio_data/audio_message_1.wav   \n",
       "30967777-9abb-4d5b-b3ec-2219e35ccc04  /data/459322429/audio_data/audio_message_2.wav   \n",
       "\n",
       "                                              a_timestamt       u_id  \n",
       "a_id                                                                  \n",
       "d94ff833-d752-4b4e-9905-671ed72116c0  2024-05-01 10:23:50  459322429  \n",
       "e83e83d3-54e1-422b-a2d1-6fe197dec21d  2024-05-01 10:23:52  459322429  \n",
       "30967777-9abb-4d5b-b3ec-2219e35ccc04  2024-05-01 10:23:54  459322429  "
      ]
     },
     "execution_count": 3,
     "metadata": {},
     "output_type": "execute_result"
    }
   ],
   "source": [
    "with sqlite3.connect(DB_PATH) as db_conn:\n",
    "    cursor = db_conn.cursor()\n",
    "    cursor.execute(\"SELECT * FROM Audios\")\n",
    "    db_conn.commit()\n",
    "    # Obtain the data\n",
    "    data = pd.DataFrame(cursor.fetchall(), columns=AUDIOS_DB_COLS).set_index(AUDIOS_DB_COLS[0])\n",
    "\n",
    "data"
   ]
  },
  {
   "cell_type": "markdown",
   "metadata": {},
   "source": [
    "## Check the sampling rate\n",
    "Must be 16kHz"
   ]
  },
  {
   "cell_type": "code",
   "execution_count": 7,
   "metadata": {},
   "outputs": [
    {
     "name": "stdout",
     "output_type": "stream",
     "text": [
      "New RATE:  16000\n"
     ]
    }
   ],
   "source": [
    "from utils.audio_utils import AudioUtils\n",
    "\n",
    "au = AudioUtils()\n",
    "au.get_sample_rate(path='./data/audio_data/459322429/audio_message_2.wav')"
   ]
  },
  {
   "cell_type": "code",
   "execution_count": null,
   "metadata": {},
   "outputs": [],
   "source": []
  }
 ],
 "metadata": {
  "kernelspec": {
   "display_name": ".venv",
   "language": "python",
   "name": "python3"
  },
  "language_info": {
   "codemirror_mode": {
    "name": "ipython",
    "version": 3
   },
   "file_extension": ".py",
   "mimetype": "text/x-python",
   "name": "python",
   "nbconvert_exporter": "python",
   "pygments_lexer": "ipython3",
   "version": "3.11.5"
  }
 },
 "nbformat": 4,
 "nbformat_minor": 2
}
